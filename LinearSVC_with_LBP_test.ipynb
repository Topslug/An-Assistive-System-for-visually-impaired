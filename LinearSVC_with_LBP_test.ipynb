{
 "cells": [
  {
   "cell_type": "code",
   "execution_count": 2,
   "id": "bigger-motorcycle",
   "metadata": {
    "scrolled": true
   },
   "outputs": [
    {
     "name": "stdout",
     "output_type": "stream",
     "text": [
      "['./images/training/grass/', './images/training/road/', './images/training/rocks/']\n",
      "./images/training/grass/\n",
      "grass\n",
      "./images/training/road/\n",
      "road\n",
      "./images/training/rocks/\n",
      "rocks\n"
     ]
    }
   ],
   "source": [
    "# Local Binary Pattern을 사용해 Texture를 분석하는 코드이다.\n",
    "\n",
    "# https://www.pyimagesearch.com/2015/12/07/local-binary-patterns-with-python-opencv/\n",
    "# import the necessary packages\n",
    "from pyimagesearch.localbinarypatterns import LocalBinaryPatterns\n",
    "from sklearn.svm import LinearSVC\n",
    "from imutils import paths\n",
    "import argparse\n",
    "import cv2\n",
    "import os\n",
    "import matplotlib.pyplot as plt\n",
    "\n",
    "\n",
    "training_images_path = \"./images/training/\"\n",
    "testing_images_path = \"./images/testing/\"\n",
    "temp_path = \"./images/temp/\"\n",
    "\n",
    "# # initialize the local binary patterns descriptor along with\n",
    "# # the data and label lists\n",
    "desc = LocalBinaryPatterns(24, 8)\n",
    "data = []\n",
    "labels = []\n",
    "\n",
    "\n",
    "kind_of_labels = os.listdir(training_images_path)\n",
    "imagePaths = list(map(lambda x:training_images_path + x + \"/\", kind_of_labels))\n",
    "print(imagePaths)\n",
    "\n",
    "# loop over the training images\n",
    "for imagePath in imagePaths:\n",
    "    print(imagePath)\n",
    "    label = imagePath.split('/')[-2]\n",
    "    print(label)\n",
    "    for imageName in os.listdir(imagePath):\n",
    "        # load the image, convert it to grayscale, and describe it\n",
    "        image = cv2.imread(imagePath + imageName)\n",
    "\n",
    "        gray = cv2.cvtColor(image, cv2.COLOR_BGR2GRAY)\n",
    "        hist = desc.describe(gray)\n",
    "        # extract the label from the image path, then update the\n",
    "        # label and data lists\n",
    "        labels.append(label)\n",
    "\n",
    "        data.append(hist)\n",
    "        ##\n",
    "#         fig, ax = plt.subplots(1, 2, figsize=(13, 6))#, sharex=True, sharey=True\n",
    "#         ax[0].plot(hist)\n",
    "#         ax[1].imshow(cv2.cvtColor(image, cv2.COLOR_BGR2RGB))\n",
    "#         ax[1].set_title(label)\n",
    "\n",
    "#         plt.tight_layout()\n",
    "#         plt.show()\n",
    "\n",
    "# # # train a Linear SVM on the data"
   ]
  },
  {
   "cell_type": "code",
   "execution_count": 3,
   "id": "prescribed-blake",
   "metadata": {},
   "outputs": [],
   "source": [
    "# # model = LinearSVC(C=100.0, random_state=42)\n",
    "model = LinearSVC(C=1, random_state=42, max_iter = 10000000)\n",
    "model.fit(data, labels)\n",
    "#\n",
    "# # loop over the testing images\n",
    "for imagePath in os.listdir(testing_images_path):\n",
    "    # load the image, convert it to grayscale, describe it,\n",
    "    # and classify it\n",
    "    image = cv2.imread(testing_images_path + imagePath)\n",
    "    gray = cv2.cvtColor(image, cv2.COLOR_BGR2GRAY)\n",
    "    hist = desc.describe(gray)\n",
    "    prediction = model.predict(hist.reshape(1, -1))\n",
    "\n",
    "    # display the image and the prediction\n",
    "    cv2.putText(image, prediction[0], (10, 80), cv2.FONT_HERSHEY_SIMPLEX,\n",
    "                3, (0, 0, 255), 3)\n",
    "\n",
    "    plt.figure(figsize = (13, 6))\n",
    "    plt.imshow(cv2.cvtColor(image, cv2.COLOR_BGR2RGB))\n",
    "    plt.show()"
   ]
  },
  {
   "cell_type": "code",
   "execution_count": null,
   "id": "geographic-market",
   "metadata": {},
   "outputs": [],
   "source": []
  }
 ],
 "metadata": {
  "kernelspec": {
   "display_name": "Python 3",
   "language": "python",
   "name": "python3"
  },
  "language_info": {
   "codemirror_mode": {
    "name": "ipython",
    "version": 3
   },
   "file_extension": ".py",
   "mimetype": "text/x-python",
   "name": "python",
   "nbconvert_exporter": "python",
   "pygments_lexer": "ipython3",
   "version": "3.8.5"
  }
 },
 "nbformat": 4,
 "nbformat_minor": 5
}
